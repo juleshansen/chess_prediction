{
 "cells": [
  {
   "cell_type": "code",
   "execution_count": null,
   "metadata": {},
   "outputs": [],
   "source": [
    "def play_game(moves):\n",
    "#     Start by initializing board\n",
    "    turn = 1\n",
    "    piece_names = ['K','Q','B','N','R']\n",
    "    board = np.empty((1,8,8),dtype=str)\n",
    "    board[0,[0,7]]=['R','N','B','Q','K','B','N','R']\n",
    "    board[0,[1,6]]=['p']*8\n",
    "#     Split moves input into a list of moves\n",
    "    moves = moves.split(' ')\n",
    "#     Find total number of moves in game\n",
    "    turns = len(moves)\n",
    "\n",
    "#     Begin playing\n",
    "    for t in range(turns):\n",
    "        temp_board = board[turn - 1]\n",
    "#         Case where piece moving is not specified: turns[t] is the specific move\n",
    "        move = turns[t]\n",
    "        rank_end = 7 - move[-1]\n",
    "        file_end = ord(move[-2]) - 96 - 1\n",
    "        piece = 'p'\n",
    "        \n",
    "        if move[0] not in piece_names:\n",
    "#             Determine if a piece was taken\n",
    "            if 'x' in move:\n",
    "                move = turns[t].split()\n",
    "                rank_start = move[0][0]\n",
    "                if move[1][0] in piece_names:\n",
    "                    piece_taken = move[1][0]\n",
    "                    move = move[1:]\n"
   ]
  }
 ],
 "metadata": {
  "kernelspec": {
   "display_name": "Python 3.7.7 64-bit ('base': conda)",
   "language": "python",
   "name": "python37764bitbaseconda42db193651bf4e5fab9381b4edefb3d8"
  },
  "language_info": {
   "codemirror_mode": {
    "name": "ipython",
    "version": 3
   },
   "file_extension": ".py",
   "mimetype": "text/x-python",
   "name": "python",
   "nbconvert_exporter": "python",
   "pygments_lexer": "ipython3",
   "version": "3.7.7"
  }
 },
 "nbformat": 4,
 "nbformat_minor": 4
}
